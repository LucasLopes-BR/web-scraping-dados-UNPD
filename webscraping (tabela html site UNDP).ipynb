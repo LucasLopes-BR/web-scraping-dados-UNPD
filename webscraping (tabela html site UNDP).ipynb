{
 "cells": [
  {
   "cell_type": "code",
   "execution_count": 2,
   "id": "f490d067",
   "metadata": {},
   "outputs": [
    {
     "name": "stdout",
     "output_type": "stream",
     "text": [
      "Requirement already satisfied: requests in c:\\users\\lucas\\anaconda3\\lib\\site-packages (2.27.1)\n",
      "Requirement already satisfied: idna<4,>=2.5 in c:\\users\\lucas\\anaconda3\\lib\\site-packages (from requests) (3.2)\n",
      "Requirement already satisfied: certifi>=2017.4.17 in c:\\users\\lucas\\anaconda3\\lib\\site-packages (from requests) (2021.10.8)\n",
      "Requirement already satisfied: urllib3<1.27,>=1.21.1 in c:\\users\\lucas\\anaconda3\\lib\\site-packages (from requests) (1.26.7)\n",
      "Requirement already satisfied: charset-normalizer~=2.0.0 in c:\\users\\lucas\\anaconda3\\lib\\site-packages (from requests) (2.0.4)\n",
      "Requirement already satisfied: bs4 in c:\\users\\lucas\\anaconda3\\lib\\site-packages (0.0.1)\n",
      "Requirement already satisfied: beautifulsoup4 in c:\\users\\lucas\\anaconda3\\lib\\site-packages (from bs4) (4.10.0)\n",
      "Requirement already satisfied: soupsieve>1.2 in c:\\users\\lucas\\anaconda3\\lib\\site-packages (from beautifulsoup4->bs4) (2.2.1)\n"
     ]
    }
   ],
   "source": [
    "!pip install requests\n",
    "!pip install bs4"
   ]
  },
  {
   "cell_type": "code",
   "execution_count": 3,
   "id": "788cc626",
   "metadata": {},
   "outputs": [],
   "source": [
    "import requests\n",
    "import pandas as pd\n",
    "from bs4 import BeautifulSoup\n",
    "import numpy as nd\n"
   ]
  },
  {
   "cell_type": "code",
   "execution_count": 4,
   "id": "e9736eb8",
   "metadata": {
    "scrolled": false
   },
   "outputs": [
    {
     "name": "stdout",
     "output_type": "stream",
     "text": [
      "Site linkado\n"
     ]
    }
   ],
   "source": [
    "url_base='https://www.br.undp.org/content/brazil/pt/home/idh0/rankings/idh-global.html'\n",
    "req = requests.get(url_base)\n",
    "\n",
    "if req.status_code == 200:\n",
    "    print('Site linkado')\n",
    "    conteudo = req.content\n",
    "    soup = BeautifulSoup(conteudo, 'html.parser')\n",
    "    tabela_IDH= soup.find(name='table')\n",
    "    tabela_str=str(tabela_IDH)\n",
    "    IDH_2014=pd.read_html(url_base, match='País')\n",
    "    \n",
    "    IDH_2014"
   ]
  },
  {
   "cell_type": "code",
   "execution_count": 5,
   "id": "8ba91561",
   "metadata": {
    "scrolled": true
   },
   "outputs": [
    {
     "name": "stdout",
     "output_type": "stream",
     "text": [
      "<class 'pandas.core.frame.DataFrame'>\n",
      "Int64Index: 193 entries, 0 to 192\n",
      "Data columns (total 3 columns):\n",
      " #   Column              Non-Null Count  Dtype \n",
      "---  ------              --------------  ----- \n",
      " 0   Ranking IDH Global  193 non-null    object\n",
      " 1   País                193 non-null    object\n",
      " 2   IDH 2014            193 non-null    object\n",
      "dtypes: object(3)\n",
      "memory usage: 6.0+ KB\n"
     ]
    }
   ],
   "source": [
    "IDH_2014_1=IDH_2014[0].dropna()\n",
    "IDH_2014_1\n",
    "IDH_2014_1.info()"
   ]
  },
  {
   "cell_type": "code",
   "execution_count": 6,
   "id": "d1d6148a",
   "metadata": {},
   "outputs": [
    {
     "data": {
      "text/html": [
       "<div>\n",
       "<style scoped>\n",
       "    .dataframe tbody tr th:only-of-type {\n",
       "        vertical-align: middle;\n",
       "    }\n",
       "\n",
       "    .dataframe tbody tr th {\n",
       "        vertical-align: top;\n",
       "    }\n",
       "\n",
       "    .dataframe thead th {\n",
       "        text-align: right;\n",
       "    }\n",
       "</style>\n",
       "<table border=\"1\" class=\"dataframe\">\n",
       "  <thead>\n",
       "    <tr style=\"text-align: right;\">\n",
       "      <th></th>\n",
       "      <th>Ranking IDH Global</th>\n",
       "      <th>País</th>\n",
       "      <th>IDH 2014</th>\n",
       "    </tr>\n",
       "  </thead>\n",
       "  <tbody>\n",
       "    <tr>\n",
       "      <th>0</th>\n",
       "      <td>Muito Alto Desenvolvimento Humano</td>\n",
       "      <td>Muito Alto Desenvolvimento Humano</td>\n",
       "      <td>Muito Alto Desenvolvimento Humano</td>\n",
       "    </tr>\n",
       "    <tr>\n",
       "      <th>1</th>\n",
       "      <td>1</td>\n",
       "      <td>Noruega</td>\n",
       "      <td>0944</td>\n",
       "    </tr>\n",
       "    <tr>\n",
       "      <th>2</th>\n",
       "      <td>2</td>\n",
       "      <td>Austrália</td>\n",
       "      <td>0935</td>\n",
       "    </tr>\n",
       "    <tr>\n",
       "      <th>3</th>\n",
       "      <td>3</td>\n",
       "      <td>Suíça</td>\n",
       "      <td>0930</td>\n",
       "    </tr>\n",
       "    <tr>\n",
       "      <th>4</th>\n",
       "      <td>4</td>\n",
       "      <td>Dinamarca</td>\n",
       "      <td>0923</td>\n",
       "    </tr>\n",
       "    <tr>\n",
       "      <th>...</th>\n",
       "      <td>...</td>\n",
       "      <td>...</td>\n",
       "      <td>...</td>\n",
       "    </tr>\n",
       "    <tr>\n",
       "      <th>188</th>\n",
       "      <td>185</td>\n",
       "      <td>Chade</td>\n",
       "      <td>0392</td>\n",
       "    </tr>\n",
       "    <tr>\n",
       "      <th>189</th>\n",
       "      <td>186</td>\n",
       "      <td>Eritrea</td>\n",
       "      <td>0391</td>\n",
       "    </tr>\n",
       "    <tr>\n",
       "      <th>190</th>\n",
       "      <td>187</td>\n",
       "      <td>República Centro Africana</td>\n",
       "      <td>0350</td>\n",
       "    </tr>\n",
       "    <tr>\n",
       "      <th>191</th>\n",
       "      <td>188</td>\n",
       "      <td>Níger</td>\n",
       "      <td>0348</td>\n",
       "    </tr>\n",
       "    <tr>\n",
       "      <th>192</th>\n",
       "      <td>OUTROS PAÍSES E TERRITÓRIOS</td>\n",
       "      <td>OUTROS PAÍSES E TERRITÓRIOS</td>\n",
       "      <td>OUTROS PAÍSES E TERRITÓRIOS</td>\n",
       "    </tr>\n",
       "  </tbody>\n",
       "</table>\n",
       "<p>193 rows × 3 columns</p>\n",
       "</div>"
      ],
      "text/plain": [
       "                    Ranking IDH Global                               País  \\\n",
       "0    Muito Alto Desenvolvimento Humano  Muito Alto Desenvolvimento Humano   \n",
       "1                                    1                            Noruega   \n",
       "2                                    2                          Austrália   \n",
       "3                                    3                              Suíça   \n",
       "4                                    4                          Dinamarca   \n",
       "..                                 ...                                ...   \n",
       "188                                185                              Chade   \n",
       "189                                186                            Eritrea   \n",
       "190                                187          República Centro Africana   \n",
       "191                                188                              Níger   \n",
       "192        OUTROS PAÍSES E TERRITÓRIOS        OUTROS PAÍSES E TERRITÓRIOS   \n",
       "\n",
       "                              IDH 2014  \n",
       "0    Muito Alto Desenvolvimento Humano  \n",
       "1                                 0944  \n",
       "2                                 0935  \n",
       "3                                 0930  \n",
       "4                                 0923  \n",
       "..                                 ...  \n",
       "188                               0392  \n",
       "189                               0391  \n",
       "190                               0350  \n",
       "191                               0348  \n",
       "192        OUTROS PAÍSES E TERRITÓRIOS  \n",
       "\n",
       "[193 rows x 3 columns]"
      ]
     },
     "execution_count": 6,
     "metadata": {},
     "output_type": "execute_result"
    }
   ],
   "source": [
    "IDH_2014=IDH_2014_1\n",
    "IDH_2014"
   ]
  },
  {
   "cell_type": "code",
   "execution_count": 7,
   "id": "376be9fb",
   "metadata": {},
   "outputs": [],
   "source": [
    "IDH_2014=IDH_2014[[\"País\",\"IDH 2014\"]]"
   ]
  },
  {
   "cell_type": "code",
   "execution_count": 8,
   "id": "98b1aa0f",
   "metadata": {},
   "outputs": [
    {
     "data": {
      "text/html": [
       "<div>\n",
       "<style scoped>\n",
       "    .dataframe tbody tr th:only-of-type {\n",
       "        vertical-align: middle;\n",
       "    }\n",
       "\n",
       "    .dataframe tbody tr th {\n",
       "        vertical-align: top;\n",
       "    }\n",
       "\n",
       "    .dataframe thead th {\n",
       "        text-align: right;\n",
       "    }\n",
       "</style>\n",
       "<table border=\"1\" class=\"dataframe\">\n",
       "  <thead>\n",
       "    <tr style=\"text-align: right;\">\n",
       "      <th></th>\n",
       "      <th>País</th>\n",
       "      <th>IDH 2014</th>\n",
       "    </tr>\n",
       "  </thead>\n",
       "  <tbody>\n",
       "    <tr>\n",
       "      <th>0</th>\n",
       "      <td>Muito Alto Desenvolvimento Humano</td>\n",
       "      <td>Muito Alto Desenvolvimento Humano</td>\n",
       "    </tr>\n",
       "    <tr>\n",
       "      <th>1</th>\n",
       "      <td>Noruega</td>\n",
       "      <td>0944</td>\n",
       "    </tr>\n",
       "    <tr>\n",
       "      <th>2</th>\n",
       "      <td>Austrália</td>\n",
       "      <td>0935</td>\n",
       "    </tr>\n",
       "    <tr>\n",
       "      <th>3</th>\n",
       "      <td>Suíça</td>\n",
       "      <td>0930</td>\n",
       "    </tr>\n",
       "    <tr>\n",
       "      <th>4</th>\n",
       "      <td>Dinamarca</td>\n",
       "      <td>0923</td>\n",
       "    </tr>\n",
       "    <tr>\n",
       "      <th>...</th>\n",
       "      <td>...</td>\n",
       "      <td>...</td>\n",
       "    </tr>\n",
       "    <tr>\n",
       "      <th>188</th>\n",
       "      <td>Chade</td>\n",
       "      <td>0392</td>\n",
       "    </tr>\n",
       "    <tr>\n",
       "      <th>189</th>\n",
       "      <td>Eritrea</td>\n",
       "      <td>0391</td>\n",
       "    </tr>\n",
       "    <tr>\n",
       "      <th>190</th>\n",
       "      <td>República Centro Africana</td>\n",
       "      <td>0350</td>\n",
       "    </tr>\n",
       "    <tr>\n",
       "      <th>191</th>\n",
       "      <td>Níger</td>\n",
       "      <td>0348</td>\n",
       "    </tr>\n",
       "    <tr>\n",
       "      <th>192</th>\n",
       "      <td>OUTROS PAÍSES E TERRITÓRIOS</td>\n",
       "      <td>OUTROS PAÍSES E TERRITÓRIOS</td>\n",
       "    </tr>\n",
       "  </tbody>\n",
       "</table>\n",
       "<p>193 rows × 2 columns</p>\n",
       "</div>"
      ],
      "text/plain": [
       "                                  País                           IDH 2014\n",
       "0    Muito Alto Desenvolvimento Humano  Muito Alto Desenvolvimento Humano\n",
       "1                              Noruega                               0944\n",
       "2                            Austrália                               0935\n",
       "3                                Suíça                               0930\n",
       "4                            Dinamarca                               0923\n",
       "..                                 ...                                ...\n",
       "188                              Chade                               0392\n",
       "189                            Eritrea                               0391\n",
       "190          República Centro Africana                               0350\n",
       "191                              Níger                               0348\n",
       "192        OUTROS PAÍSES E TERRITÓRIOS        OUTROS PAÍSES E TERRITÓRIOS\n",
       "\n",
       "[193 rows x 2 columns]"
      ]
     },
     "execution_count": 8,
     "metadata": {},
     "output_type": "execute_result"
    }
   ],
   "source": [
    "IDH_2014"
   ]
  },
  {
   "cell_type": "code",
   "execution_count": 9,
   "id": "8857e5a5",
   "metadata": {
    "scrolled": true
   },
   "outputs": [
    {
     "data": {
      "text/html": [
       "<div>\n",
       "<style scoped>\n",
       "    .dataframe tbody tr th:only-of-type {\n",
       "        vertical-align: middle;\n",
       "    }\n",
       "\n",
       "    .dataframe tbody tr th {\n",
       "        vertical-align: top;\n",
       "    }\n",
       "\n",
       "    .dataframe thead th {\n",
       "        text-align: right;\n",
       "    }\n",
       "</style>\n",
       "<table border=\"1\" class=\"dataframe\">\n",
       "  <thead>\n",
       "    <tr style=\"text-align: right;\">\n",
       "      <th></th>\n",
       "      <th>País</th>\n",
       "      <th>IDH 2014</th>\n",
       "    </tr>\n",
       "  </thead>\n",
       "  <tbody>\n",
       "    <tr>\n",
       "      <th>0</th>\n",
       "      <td>Muito Alto Desenvolvimento Humano</td>\n",
       "      <td>Muito Alto Desenvolvimento Humano</td>\n",
       "    </tr>\n",
       "    <tr>\n",
       "      <th>1</th>\n",
       "      <td>Noruega</td>\n",
       "      <td>0944</td>\n",
       "    </tr>\n",
       "    <tr>\n",
       "      <th>2</th>\n",
       "      <td>Austrália</td>\n",
       "      <td>0935</td>\n",
       "    </tr>\n",
       "    <tr>\n",
       "      <th>3</th>\n",
       "      <td>Suíça</td>\n",
       "      <td>0930</td>\n",
       "    </tr>\n",
       "    <tr>\n",
       "      <th>4</th>\n",
       "      <td>Dinamarca</td>\n",
       "      <td>0923</td>\n",
       "    </tr>\n",
       "    <tr>\n",
       "      <th>...</th>\n",
       "      <td>...</td>\n",
       "      <td>...</td>\n",
       "    </tr>\n",
       "    <tr>\n",
       "      <th>188</th>\n",
       "      <td>Chade</td>\n",
       "      <td>0392</td>\n",
       "    </tr>\n",
       "    <tr>\n",
       "      <th>189</th>\n",
       "      <td>Eritrea</td>\n",
       "      <td>0391</td>\n",
       "    </tr>\n",
       "    <tr>\n",
       "      <th>190</th>\n",
       "      <td>República Centro Africana</td>\n",
       "      <td>0350</td>\n",
       "    </tr>\n",
       "    <tr>\n",
       "      <th>191</th>\n",
       "      <td>Níger</td>\n",
       "      <td>0348</td>\n",
       "    </tr>\n",
       "    <tr>\n",
       "      <th>192</th>\n",
       "      <td>OUTROS PAÍSES E TERRITÓRIOS</td>\n",
       "      <td>OUTROS PAÍSES E TERRITÓRIOS</td>\n",
       "    </tr>\n",
       "  </tbody>\n",
       "</table>\n",
       "<p>193 rows × 2 columns</p>\n",
       "</div>"
      ],
      "text/plain": [
       "                                  País                           IDH 2014\n",
       "0    Muito Alto Desenvolvimento Humano  Muito Alto Desenvolvimento Humano\n",
       "1                              Noruega                               0944\n",
       "2                            Austrália                               0935\n",
       "3                                Suíça                               0930\n",
       "4                            Dinamarca                               0923\n",
       "..                                 ...                                ...\n",
       "188                              Chade                               0392\n",
       "189                            Eritrea                               0391\n",
       "190          República Centro Africana                               0350\n",
       "191                              Níger                               0348\n",
       "192        OUTROS PAÍSES E TERRITÓRIOS        OUTROS PAÍSES E TERRITÓRIOS\n",
       "\n",
       "[193 rows x 2 columns]"
      ]
     },
     "execution_count": 9,
     "metadata": {},
     "output_type": "execute_result"
    }
   ],
   "source": [
    "IDH_2014"
   ]
  },
  {
   "cell_type": "code",
   "execution_count": 10,
   "id": "0543728e",
   "metadata": {},
   "outputs": [],
   "source": [
    "IDH_2014=IDH_2014.set_index('País')"
   ]
  },
  {
   "cell_type": "code",
   "execution_count": 11,
   "id": "71e4339f",
   "metadata": {},
   "outputs": [],
   "source": [
    "IDH_2014=IDH_2014.drop(['Muito Alto Desenvolvimento Humano','ALTO DESENVOLVIMENTO HUMANO','MÉDIO DESENVOLVIMENTO HUMANO','BAIXO DESENVOLVIMENTO HUMANO','OUTROS PAÍSES E TERRITÓRIOS'])"
   ]
  },
  {
   "cell_type": "code",
   "execution_count": 12,
   "id": "f2cd32d0",
   "metadata": {
    "scrolled": true
   },
   "outputs": [
    {
     "name": "stdout",
     "output_type": "stream",
     "text": [
      "<class 'pandas.core.frame.DataFrame'>\n",
      "Index: 188 entries, Noruega to Níger\n",
      "Data columns (total 1 columns):\n",
      " #   Column    Non-Null Count  Dtype \n",
      "---  ------    --------------  ----- \n",
      " 0   IDH 2014  188 non-null    object\n",
      "dtypes: object(1)\n",
      "memory usage: 2.9+ KB\n"
     ]
    }
   ],
   "source": [
    "IDH_2014.info()"
   ]
  },
  {
   "cell_type": "code",
   "execution_count": 15,
   "id": "a5928eda",
   "metadata": {
    "scrolled": false
   },
   "outputs": [
    {
     "name": "stdout",
     "output_type": "stream",
     "text": [
      "                          IDH 2014\n",
      "País                              \n",
      "Noruega                        944\n",
      "Austrália                      935\n",
      "Suíça                          930\n",
      "Dinamarca                      923\n",
      "Países Baixos                  922\n",
      "...                            ...\n",
      "Burundi                        400\n",
      "Chade                          392\n",
      "Eritrea                        391\n",
      "República Centro Africana      350\n",
      "Níger                          348\n",
      "\n",
      "[188 rows x 1 columns]\n"
     ]
    }
   ],
   "source": [
    "IDH_2014['IDH 2014']= [zeroaesquerda.lstrip('0') for zeroaesquerda in IDH_2014['IDH 2014']]\n",
    "print (str(IDH_2014))"
   ]
  },
  {
   "cell_type": "code",
   "execution_count": 18,
   "id": "47327977",
   "metadata": {
    "scrolled": true
   },
   "outputs": [
    {
     "name": "stdout",
     "output_type": "stream",
     "text": [
      "<class 'pandas.core.frame.DataFrame'>\n",
      "Index: 188 entries, Noruega to Níger\n",
      "Data columns (total 1 columns):\n",
      " #   Column    Non-Null Count  Dtype \n",
      "---  ------    --------------  ----- \n",
      " 0   IDH 2014  188 non-null    object\n",
      "dtypes: object(1)\n",
      "memory usage: 2.9+ KB\n"
     ]
    }
   ],
   "source": [
    "IDH_2014.info()"
   ]
  },
  {
   "cell_type": "code",
   "execution_count": 20,
   "id": "a4cc4032",
   "metadata": {},
   "outputs": [],
   "source": [
    "IDH_2014['IDH 2014']=IDH_2014['IDH 2014'].astype(int)"
   ]
  },
  {
   "cell_type": "code",
   "execution_count": 21,
   "id": "4231fa02",
   "metadata": {},
   "outputs": [
    {
     "name": "stdout",
     "output_type": "stream",
     "text": [
      "<class 'pandas.core.frame.DataFrame'>\n",
      "Index: 188 entries, Noruega to Níger\n",
      "Data columns (total 1 columns):\n",
      " #   Column    Non-Null Count  Dtype\n",
      "---  ------    --------------  -----\n",
      " 0   IDH 2014  188 non-null    int32\n",
      "dtypes: int32(1)\n",
      "memory usage: 6.3+ KB\n"
     ]
    }
   ],
   "source": [
    "IDH_2014.info()"
   ]
  },
  {
   "cell_type": "code",
   "execution_count": 22,
   "id": "ee08692d",
   "metadata": {},
   "outputs": [],
   "source": [
    "IDH_2014.to_excel('IDH_2014_manipulado.xlsx')"
   ]
  },
  {
   "cell_type": "code",
   "execution_count": null,
   "id": "5949bccb",
   "metadata": {},
   "outputs": [],
   "source": []
  }
 ],
 "metadata": {
  "kernelspec": {
   "display_name": "Python 3 (ipykernel)",
   "language": "python",
   "name": "python3"
  },
  "language_info": {
   "codemirror_mode": {
    "name": "ipython",
    "version": 3
   },
   "file_extension": ".py",
   "mimetype": "text/x-python",
   "name": "python",
   "nbconvert_exporter": "python",
   "pygments_lexer": "ipython3",
   "version": "3.9.7"
  }
 },
 "nbformat": 4,
 "nbformat_minor": 5
}
